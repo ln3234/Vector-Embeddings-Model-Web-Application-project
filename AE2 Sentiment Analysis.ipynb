{
 "cells": [
  {
   "cell_type": "markdown",
   "metadata": {},
   "source": [
    "## AE2 Sentiment Analysis"
   ]
  },
  {
   "cell_type": "markdown",
   "metadata": {},
   "source": [
    "This report documents the training for the GLUE SST-2 sentiment analysis model task."
   ]
  },
  {
   "cell_type": "code",
   "execution_count": 1,
   "metadata": {},
   "outputs": [],
   "source": [
    "#Import statements\n",
    "import numpy as np\n",
    "import pandas as pd\n",
    "import matplotlib.pyplot as plt\n",
    "import time\n",
    "import pickle\n",
    "\n",
    "from sklearn.feature_extraction.text import CountVectorizer\n",
    "from sklearn.feature_extraction.text import TfidfVectorizer\n",
    "from sklearn.feature_extraction.text import ENGLISH_STOP_WORDS\n",
    "from sklearn.naive_bayes import MultinomialNB\n",
    "from sklearn.linear_model import LogisticRegression\n",
    "from sklearn.tree import DecisionTreeClassifier\n",
    "from sklearn.neighbors import KNeighborsClassifier\n",
    "from sklearn.metrics import accuracy_score, precision_score, recall_score, f1_score\n",
    "from sklearn.model_selection import GridSearchCV"
   ]
  },
  {
   "cell_type": "markdown",
   "metadata": {},
   "source": [
    "### 1. Data Exploration\n",
    "The first step of the machine learning application development is to explore our data sets and evaluate their suitability for the project.\n",
    "For this project we have three data sets: one for training, one for the development of the model and one for testing its success at the very end. The first two data sets are labeled, meaning that each data sample is already classified. The testing set is unlabled, as this is what the model should be able to predict in the end. <br>\n",
    "The data used for this machine learning application is based on movie reviews. Each sample is a review sentence labeled as having either postive or negative sentiment. Hence, we are working with two classes."
   ]
  },
  {
   "cell_type": "code",
   "execution_count": 2,
   "metadata": {},
   "outputs": [],
   "source": [
    "#Load data files using pandas and store them as dataframes\n",
    "\n",
    "#Training Data\n",
    "data1 = pd.read_csv('train.tsv', sep = '\\t')\n",
    "\n",
    "#Developing Data\n",
    "data2 = pd.read_csv('dev.tsv', sep = '\\t')"
   ]
  },
  {
   "cell_type": "code",
   "execution_count": 3,
   "metadata": {},
   "outputs": [
    {
     "data": {
      "text/html": [
       "<div>\n",
       "<style scoped>\n",
       "    .dataframe tbody tr th:only-of-type {\n",
       "        vertical-align: middle;\n",
       "    }\n",
       "\n",
       "    .dataframe tbody tr th {\n",
       "        vertical-align: top;\n",
       "    }\n",
       "\n",
       "    .dataframe thead th {\n",
       "        text-align: right;\n",
       "    }\n",
       "</style>\n",
       "<table border=\"1\" class=\"dataframe\">\n",
       "  <thead>\n",
       "    <tr style=\"text-align: right;\">\n",
       "      <th></th>\n",
       "      <th>sentence</th>\n",
       "      <th>label</th>\n",
       "    </tr>\n",
       "  </thead>\n",
       "  <tbody>\n",
       "    <tr>\n",
       "      <th>0</th>\n",
       "      <td>hide new secretions from the parental units</td>\n",
       "      <td>0</td>\n",
       "    </tr>\n",
       "    <tr>\n",
       "      <th>1</th>\n",
       "      <td>contains no wit , only labored gags</td>\n",
       "      <td>0</td>\n",
       "    </tr>\n",
       "    <tr>\n",
       "      <th>2</th>\n",
       "      <td>that loves its characters and communicates som...</td>\n",
       "      <td>1</td>\n",
       "    </tr>\n",
       "    <tr>\n",
       "      <th>3</th>\n",
       "      <td>remains utterly satisfied to remain the same t...</td>\n",
       "      <td>0</td>\n",
       "    </tr>\n",
       "    <tr>\n",
       "      <th>4</th>\n",
       "      <td>on the worst revenge-of-the-nerds clichés the ...</td>\n",
       "      <td>0</td>\n",
       "    </tr>\n",
       "  </tbody>\n",
       "</table>\n",
       "</div>"
      ],
      "text/plain": [
       "                                            sentence  label\n",
       "0       hide new secretions from the parental units       0\n",
       "1               contains no wit , only labored gags       0\n",
       "2  that loves its characters and communicates som...      1\n",
       "3  remains utterly satisfied to remain the same t...      0\n",
       "4  on the worst revenge-of-the-nerds clichés the ...      0"
      ]
     },
     "execution_count": 3,
     "metadata": {},
     "output_type": "execute_result"
    }
   ],
   "source": [
    "data1.head(5)"
   ]
  },
  {
   "cell_type": "code",
   "execution_count": 4,
   "metadata": {},
   "outputs": [],
   "source": [
    "#Create function to plot data distribution\n",
    "def plot_dist (df, title):\n",
    "    \"\"\"\n",
    "    Creates bar plot showing distribution of positive and negative reviews in a data set.\n",
    "    \n",
    "    \"\"\"\n",
    "    \n",
    "    label_count = df['label'].value_counts()\n",
    "\n",
    "    #Draw plot and specify lables and styles\n",
    "    plt.figure(figsize=(5,3))\n",
    "    plt.bar(label_count.index, label_count.values)\n",
    "    plt.title(f'Data Distribution:\\n {title}', pad=10)\n",
    "    plt.xticks(label_count.index, ['Negative', 'Positive'])\n",
    "    plt.xlabel('Sentiment')\n",
    "    plt.ylabel('Number of Sentences')\n",
    "\n",
    "    plt.show\n",
    "\n",
    "    print(f'The label difference is: {label_count[0]-label_count[1]}')\n",
    "    \n",
    "    return"
   ]
  },
  {
   "cell_type": "code",
   "execution_count": 5,
   "metadata": {},
   "outputs": [
    {
     "name": "stdout",
     "output_type": "stream",
     "text": [
      "The label difference is: -7789\n"
     ]
    },
    {
     "data": {
      "image/png": "[encoded data removed]",
      "text/plain": [
       "<Figure size 500x300 with 1 Axes>"
      ]
     },
     "metadata": {},
     "output_type": "display_data"
    }
   ],
   "source": [
    "#Call plot function for training data and print difference\n",
    "plot_dist(data1, 'Training Data')"
   ]
  },
  {
   "cell_type": "code",
   "execution_count": 6,
   "metadata": {},
   "outputs": [
    {
     "name": "stdout",
     "output_type": "stream",
     "text": [
      "The label difference is: -16\n"
     ]
    },
    {
     "data": {
      "image/png": "[encoded data removed]",
      "text/plain": [
       "<Figure size 500x300 with 1 Axes>"
      ]
     },
     "metadata": {},
     "output_type": "display_data"
    }
   ],
   "source": [
    "#Call plot function for developing data and print difference\n",
    "plot_dist(data2, 'Developing Data')"
   ]
  },
  {
   "cell_type": "markdown",
   "metadata": {},
   "source": [
    "Comparing the two data visualisations we find two things. <br>\n",
    "1. The data set for testing the training model is a lot smaller with about 900 samples, while the training data has about 67,000 sample reviews. This is not suprising, nor worrying though. <br>\n",
    "2. The second observation regards the distribution of the labels in each data set. The testing (developing) set has a nearly equal distribution. This is appropriate seeing that the model should be capable of predicting both labels. The training data though, shows a significant difference in label counts, of 7,789 samples, skewed towards the negtative label. This difference could affect the training of the model, which may be biased towards the negative class. Further, we may find that the generalisation for the positive class is  impaired. As the difference is under 25% though, we will precede with the data set as it is, without taking measures. However, this decision should be reevaluated at the end of the project."
   ]
  },
  {
   "cell_type": "markdown",
   "metadata": {},
   "source": [
    "We conclude that the data sets are large enough and well distributed enough to proceed with the further processing in preparation of the machine learning model training."
   ]
  },
  {
   "cell_type": "markdown",
   "metadata": {},
   "source": [
    "### 2. Data Vectorisation"
   ]
  },
  {
   "cell_type": "markdown",
   "metadata": {},
   "source": [
    "In order to be able to model the text data in quantitative terms the next step is to vectorise the data. There are multiple ways of doing this. In order to find the best way for our data, we try multiple methods and compare them. To do this we train the different methods on the training data set and then train a classification model based on this vectorisation of the data. Next, we measure the accuracy of predictions made by this model on both the training data set, as well as a test data set that was unseen by the vectorizer.  "
   ]
  },
  {
   "cell_type": "code",
   "execution_count": 7,
   "metadata": {},
   "outputs": [],
   "source": [
    "#Create data structure that stores sentence-sentiment pairs of our data sets\n",
    "class Dataset(object):\n",
    "    \"\"\"\n",
    "    A helper data structure to store the input features (X) and labels (y) of a dataset.\n",
    "    \"\"\"\n",
    "    def __init__(self):\n",
    "        self.X = None\n",
    "        self.y = None\n",
    "        # Vectorized input text features\n",
    "        self.V = None\n",
    "\n",
    "#Create two objects of type Dataset\n",
    "train = Dataset()\n",
    "test = Dataset()\n",
    "\n",
    "#Store columns from dataframes in objects\n",
    "train.X = data1[\"sentence\"]\n",
    "train.y = data1[\"label\"]\n",
    "\n",
    "test.X = data2[\"sentence\"]\n",
    "test.y = data2[\"label\"]"
   ]
  },
  {
   "cell_type": "markdown",
   "metadata": {},
   "source": [
    "#### Ablation Study of Different Vectorization Methods\n",
    "We will use two different basic vectorization methods and apply them using different parameters. They are the word count vectorizer and TF-IDF vectorizer. We can then modify these with some extra parameters such as discarding stop words."
   ]
  },
  {
   "cell_type": "code",
   "execution_count": 8,
   "metadata": {},
   "outputs": [
    {
     "name": "stdout",
     "output_type": "stream",
     "text": [
      "\n",
      "Word Count\n",
      "\n",
      "- Number of features:  13774\n",
      "- Training accuracy:  89.67%\n",
      "- Test accuracy:      80.39%\n",
      "\n",
      "Word Count w/stp wrds\n",
      "\n",
      "- Number of features:  13491\n",
      "- Training accuracy:  88.98%\n",
      "- Test accuracy:      78.10%\n",
      "\n",
      "TF-IDF\n",
      "\n",
      "- Number of features:  13774\n",
      "- Training accuracy:  90.87%\n",
      "- Test accuracy:      79.82%\n",
      "\n",
      "TF-IDF w/stp wrds\n",
      "\n",
      "- Number of features:  13491\n",
      "- Training accuracy:  90.02%\n",
      "- Test accuracy:      77.41%\n",
      "\n",
      "TF-IDF w/stp wrds, min-df 3\n",
      "\n",
      "- Number of features:  12342\n",
      "- Training accuracy:  89.81%\n",
      "- Test accuracy:      77.87%\n",
      "\n",
      "TF-IDF w/stp wrds, (1, 2)-grams\n",
      "\n",
      "- Number of features:  62753\n",
      "- Training accuracy:  93.53%\n",
      "- Test accuracy:      77.75%\n",
      "\n",
      "TF-IDF w/stp wrds, min-df 3, (1, 2)-grams\n",
      "\n",
      "- Number of features:  49573\n",
      "- Training accuracy:  92.98%\n",
      "- Test accuracy:      77.98%\n"
     ]
    }
   ],
   "source": [
    "#Create class called vectorizers with the description and commands for different vectorizers\n",
    "vectorizers = {\n",
    "    'Word Count':                                     CountVectorizer(),\n",
    "    'Word Count w/stp wrds':                        CountVectorizer(stop_words=\"english\"),\n",
    "    'TF-IDF':                                         TfidfVectorizer(),\n",
    "    'TF-IDF w/stp wrds':                            TfidfVectorizer(stop_words=\"english\"),\n",
    "    'TF-IDF w/stp wrds, min-df 3':               TfidfVectorizer(stop_words=\"english\", \n",
    "                                                                      min_df=3),\n",
    "    'TF-IDF w/stp wrds, (1, 2)-grams':              TfidfVectorizer(stop_words=\"english\", \n",
    "                                                                      ngram_range=(1,2)),\n",
    "    'TF-IDF w/stp wrds, min-df 3, (1, 2)-grams': TfidfVectorizer(stop_words=\"english\", \n",
    "                                                                      min_df=3, \n",
    "                                                                      ngram_range=(1,2)),\n",
    "}\n",
    "\n",
    "\n",
    "#For storing results\n",
    "descriptions = []\n",
    "num_features = []\n",
    "training_accuracies = []\n",
    "test_accuracies = []\n",
    "\n",
    "#Create loop function that fits each vectoriser to training model and tests the outcome when used for a multinomial naive bayes classifier\n",
    "for description, vectorizer in vectorizers.items():\n",
    "\n",
    "    # Create the vectorizer based on the training data\n",
    "    vectorizer.fit(train.X)\n",
    "    \n",
    "    # Encode the words in the training and test dataset based on the vocabulary\n",
    "    train.V = vectorizer.transform(train.X)\n",
    "    test.V = vectorizer.transform(test.X)\n",
    "    \n",
    "    # Train the classifier on the training data\n",
    "    model = MultinomialNB(alpha=0.5).fit(X=train.V, y=train.y)\n",
    "\n",
    "\n",
    "    #Store results\n",
    "    descriptions.append(description)\n",
    "    num_features.append(len(vectorizer.get_feature_names_out()))\n",
    "    training_accuracies.append(model.score(train.V, train.y))\n",
    "    test_accuracies.append(model.score(test.V, test.y))\n",
    "\n",
    "    #Print results\n",
    "    print(f'\\n{description}\\n')\n",
    "    \n",
    "    print(\"- Number of features: {:6d}\".format(len(vectorizer.get_feature_names_out())))\n",
    "\n",
    "    print(\"- Training accuracy:  {:.2%}\".format(model.score(train.V, train.y)))\n",
    "    print(\"- Test accuracy:      {:.2%}\".format(model.score(test.V, test.y)))"
   ]
  },
  {
   "cell_type": "markdown",
   "metadata": {},
   "source": [
    "Let's plot this information for better insight."
   ]
  },
  {
   "cell_type": "code",
   "execution_count": 9,
   "metadata": {},
   "outputs": [],
   "source": [
    "#Make dataframe from results\n",
    "results = pd.DataFrame({'Method':descriptions, 'Number of features': num_features,\n",
    "                        'Training accuracy':training_accuracies, 'Test accuracy':test_accuracies})\n",
    "\n",
    "#Write function to make plot\n",
    "def ablation_plot(df, title):\n",
    "    \"\"\"\n",
    "    Creates bar plot of data frame containing accuracies of different vectorisation methods\n",
    "    \"\"\"\n",
    "    plt.figure(figsize=(9,3.5))\n",
    "\n",
    "    bar_width = 0.2\n",
    "\n",
    "    r = np.arange(len(df['Method']))\n",
    "\n",
    "    plt.barh(r - bar_width/2, df['Training accuracy'], height=bar_width, label='Fitting accuracy')\n",
    "    plt.barh(r + bar_width/2, df['Test accuracy'], height=bar_width, label='Prediction accuracy')\n",
    "\n",
    "    plt.xlabel('Accuracy')\n",
    "    plt.ylabel('Method')\n",
    "    plt.title(f'{title}')\n",
    "    plt.yticks(r, df['Method'], ha='right')\n",
    "\n",
    "    plt.xlim(0.5,1)\n",
    "\n",
    "    plt.legend(loc='center left', bbox_to_anchor=(1,0.5))\n",
    "    plt.grid(axis='x')\n",
    "    plt.tight_layout()\n",
    "    plt.show()\n",
    "    return"
   ]
  },
  {
   "cell_type": "code",
   "execution_count": 10,
   "metadata": {},
   "outputs": [
    {
     "data": {
      "image/png": "[encoded data removed]",
      "text/plain": [
       "<Figure size 900x350 with 1 Axes>"
      ]
     },
     "metadata": {},
     "output_type": "display_data"
    },
    {
     "data": {
      "image/png": "[encoded data removed]",
      "text/plain": [
       "<Figure size 900x350 with 1 Axes>"
      ]
     },
     "metadata": {},
     "output_type": "display_data"
    }
   ],
   "source": [
    "#Create sorted data frames\n",
    "sorted_results_tr = results.sort_values(by='Training accuracy')\n",
    "sorted_results_te = results.sort_values(by='Test accuracy')\n",
    "\n",
    "#Call function on both sorted arrays\n",
    "ablation_plot(sorted_results_tr, \"Vectorization Methods Ranked by Model Fitting Accuracy\")\n",
    "\n",
    "ablation_plot(sorted_results_te, \"Vectorization Methods Ranked by Prediction Accuracy\")"
   ]
  },
  {
   "cell_type": "markdown",
   "metadata": {},
   "source": [
    "The two graphs above rank the different vectorization methods once by accuracy of the predictions for the training data set and once for the testing data set. Comparing them we can see large differences. The accuracy for the training data set shows us how well the model is fitted to the training data. Because the labels are known during the model training, the highest score is not necessarily the most desirable, as this could mean overfitting. The accuracy for the test data set on the other hand tells us how well the model predicts previously unkonwn labels. Therefore it is unsurprising that all models score lower for this data set. <br>\n",
    "When it comes to chosing the best model two things should be considered. A model that scores high on the test data should be favored, since this indicates how well the model has generalised the data and how well it will do for future prediction tasks. A perfect score in accuracy for a training is not of much use, as this is likely to indicate overfitting. Secondly, a model that shows a small gap between the test and training data accuracies could also be favorable.\n",
    "<br>\n",
    "<br>\n",
    "Taking this as a guide it seems that the 'TD-IDF' method seems to be the best choice for our purposes. While it ranks only second behind the 'word count' method in prediction accuracy, with a difference of about 0.6%, it is in third place in terms of fitting accuracy, while the 'word count' method is second to last in this respect. This choice should strike a good balance between fitting and generalisation."
   ]
  },
  {
   "cell_type": "code",
   "execution_count": 11,
   "metadata": {},
   "outputs": [],
   "source": [
    "#Intitialise final vectoriser with chosen method\n",
    "my_vectorizer =  TfidfVectorizer()\n",
    "\n",
    "#Train vectorizer on training data set\n",
    "my_vectorizer.fit(train.X)\n",
    "\n",
    "#Save model\n",
    "with open(\"vectorizer.pickle\", \"wb\") as f:\n",
    "    pickle.dump(my_vectorizer, f)\n",
    "\n",
    "#Vectorise sentences in both data sets\n",
    "train.V = my_vectorizer.transform(train.X)\n",
    "test.V = my_vectorizer.transform(test.X)"
   ]
  },
  {
   "cell_type": "markdown",
   "metadata": {},
   "source": [
    "### 3. Machine Learning Model"
   ]
  },
  {
   "cell_type": "markdown",
   "metadata": {},
   "source": [
    "After having decided on a vectorisation method we now move on to choosing a machine learning classifier. To do this we undergo a similar process as in the last step. <br>\n",
    "We decided to go with the logistic regression and naive bayes classifiers, as the other known options were taking too much computing power to train. <br>\n",
    "In order to test the efficiency and effectivity of the models we will time the amount of time it takes to train the models, as well as the time it takes to apply the model onto a set of data. We will also assess the accuracy, recall score, precision and F1 score of our two models and plot them for comparison."
   ]
  },
  {
   "cell_type": "code",
   "execution_count": 12,
   "metadata": {},
   "outputs": [],
   "source": [
    "#Create class called classifiers with the description and commands for different classification methods\n",
    "classifiers = {\n",
    "    'Logistic Regression':       LogisticRegression(),\n",
    "    'Naive Bayes':               MultinomialNB(),\n",
    "    #'KNN':                       KNeighborsClassifier(),\n",
    "    #'Decision Tree':             DecisionTreeClassifier(),\n",
    "}"
   ]
  },
  {
   "cell_type": "code",
   "execution_count": 13,
   "metadata": {},
   "outputs": [],
   "source": [
    "#Create empty list to save scores of each model\n",
    "results = []\n",
    "\n",
    "#Create for loop to fit model onto data and assess accuracy of predictions which are saved to our results list\n",
    "for name, classifier in classifiers.items():\n",
    "\n",
    "    #Record start time for training\n",
    "    train_start = time.time()\n",
    "    \n",
    "    #Fit model on training data set\n",
    "    classifier.fit(X=train.V, y=train.y)\n",
    "\n",
    "    #Record end time for training\n",
    "    train_end = time.time()\n",
    "\n",
    "    #Record start time for prediction\n",
    "    prediction_start = time.time()\n",
    "    \n",
    "    #Make predictions using model\n",
    "    train_pred = classifier.predict(train.V)\n",
    "    test_pred = classifier.predict(test.V)\n",
    "\n",
    "    #Record end time for prediciotn\n",
    "    prediciton_end = time.time()\n",
    "    \n",
    "    #Assess accuracy, precision, recall and f1 scores\n",
    "    train_accuracy = accuracy_score(train.y, train_pred)\n",
    "    test_accuracy = accuracy_score(test.y, test_pred)\n",
    "    train_precision = precision_score(train.y, train_pred)\n",
    "    test_precision= precision_score(test.y, test_pred)\n",
    "    train_recall = recall_score(train.y, train_pred)\n",
    "    test_recall = recall_score(test.y, test_pred)\n",
    "    train_f1 = f1_score(train.y, train_pred)\n",
    "    test_f1 = f1_score(test.y, test_pred)\n",
    "\n",
    "    #Calculate training and prediction times\n",
    "    training_time = train_end - train_start\n",
    "    prediction_time = prediciton_end - prediction_start\n",
    "    \n",
    "    #Save result\n",
    "    results.append({'Classifier': name, 'Training Accuracy': train_accuracy, 'Test Accuracy': test_accuracy, \n",
    "                    'Training Precision': train_precision, 'Test Precision': test_precision, 'Training Recall': train_recall,\n",
    "                    'Test Recall': test_recall, 'Training F1': train_f1, 'Test F1': test_f1, 'Training Time': training_time, \n",
    "                    'Prediction Time': prediction_time\n",
    "                   })"
   ]
  },
  {
   "cell_type": "code",
   "execution_count": 14,
   "metadata": {},
   "outputs": [
    {
     "data": {
      "text/html": [
       "<div>\n",
       "<style scoped>\n",
       "    .dataframe tbody tr th:only-of-type {\n",
       "        vertical-align: middle;\n",
       "    }\n",
       "\n",
       "    .dataframe tbody tr th {\n",
       "        vertical-align: top;\n",
       "    }\n",
       "\n",
       "    .dataframe thead th {\n",
       "        text-align: right;\n",
       "    }\n",
       "</style>\n",
       "<table border=\"1\" class=\"dataframe\">\n",
       "  <thead>\n",
       "    <tr style=\"text-align: right;\">\n",
       "      <th></th>\n",
       "      <th>Classifier</th>\n",
       "      <th>Training Accuracy</th>\n",
       "      <th>Test Accuracy</th>\n",
       "      <th>Training Precision</th>\n",
       "      <th>Test Precision</th>\n",
       "      <th>Training Recall</th>\n",
       "      <th>Test Recall</th>\n",
       "      <th>Training F1</th>\n",
       "      <th>Test F1</th>\n",
       "      <th>Training Time</th>\n",
       "      <th>Prediction Time</th>\n",
       "    </tr>\n",
       "  </thead>\n",
       "  <tbody>\n",
       "    <tr>\n",
       "      <th>0</th>\n",
       "      <td>Logistic Regression</td>\n",
       "      <td>0.922107</td>\n",
       "      <td>0.822248</td>\n",
       "      <td>0.926121</td>\n",
       "      <td>0.800416</td>\n",
       "      <td>0.934946</td>\n",
       "      <td>0.867117</td>\n",
       "      <td>0.930513</td>\n",
       "      <td>0.832432</td>\n",
       "      <td>1.013184</td>\n",
       "      <td>0.003280</td>\n",
       "    </tr>\n",
       "    <tr>\n",
       "      <th>1</th>\n",
       "      <td>Naive Bayes</td>\n",
       "      <td>0.905819</td>\n",
       "      <td>0.800459</td>\n",
       "      <td>0.905975</td>\n",
       "      <td>0.766798</td>\n",
       "      <td>0.927414</td>\n",
       "      <td>0.873874</td>\n",
       "      <td>0.916569</td>\n",
       "      <td>0.816842</td>\n",
       "      <td>0.018196</td>\n",
       "      <td>0.006357</td>\n",
       "    </tr>\n",
       "  </tbody>\n",
       "</table>\n",
       "</div>"
      ],
      "text/plain": [
       "            Classifier  Training Accuracy  Test Accuracy  Training Precision  \\\n",
       "0  Logistic Regression           0.922107       0.822248            0.926121   \n",
       "1          Naive Bayes           0.905819       0.800459            0.905975   \n",
       "\n",
       "   Test Precision  Training Recall  Test Recall  Training F1   Test F1  \\\n",
       "0        0.800416         0.934946     0.867117     0.930513  0.832432   \n",
       "1        0.766798         0.927414     0.873874     0.916569  0.816842   \n",
       "\n",
       "   Training Time  Prediction Time  \n",
       "0       1.013184         0.003280  \n",
       "1       0.018196         0.006357  "
      ]
     },
     "execution_count": 14,
     "metadata": {},
     "output_type": "execute_result"
    }
   ],
   "source": [
    "#Convert results to data frame\n",
    "df_results = pd.DataFrame(results)\n",
    "#Look at results\n",
    "df_results.head(2)"
   ]
  },
  {
   "cell_type": "code",
   "execution_count": 15,
   "metadata": {},
   "outputs": [],
   "source": [
    "#Write function to plot efficiency results\n",
    "def efficiency_plot (df, title1, title2):\n",
    "    \"\"\"\n",
    "    Creates a bar plot from a data frame showing training and prediction times for different classification models\n",
    "    \"\"\"\n",
    "    plt.figure(figsize=(8,3))\n",
    "\n",
    "    r = np.arange(len(df['Classifier']))\n",
    "\n",
    "    #Create first subplot for training times\n",
    "    plt.subplot(1,2,1)\n",
    "    plt.bar(r, df['Training Time'],  label='training time')\n",
    "\n",
    "    plt.ylabel('Time in s')\n",
    "    plt.xlabel('Classifier')\n",
    "    plt.xticks(r, df['Classifier'])\n",
    "    plt.title(f'{title1}')\n",
    "    plt.grid(axis='y')\n",
    "\n",
    "    #Create second subplot for prediction times\n",
    "    plt.subplot(1,2,2)\n",
    "    plt.bar(r, df['Prediction Time'], label='prediction time')\n",
    "\n",
    "    plt.ylabel('Time in s')\n",
    "    plt.xlabel('Classifier')\n",
    "    plt.xticks(r, df['Classifier'])\n",
    "    plt.title(f'{title2}')\n",
    "    plt.grid(axis='y')\n",
    "    \n",
    "    plt.tight_layout()\n",
    "    plt.show()\n",
    "    return"
   ]
  },
  {
   "cell_type": "code",
   "execution_count": 16,
   "metadata": {},
   "outputs": [
    {
     "data": {
      "image/png": "[encoded data removed]",
      "text/plain": [
       "<Figure size 800x300 with 2 Axes>"
      ]
     },
     "metadata": {},
     "output_type": "display_data"
    }
   ],
   "source": [
    "#Call function for plotting\n",
    "efficiency_plot(df_results, 'Training Time', 'Prediction Time')"
   ]
  },
  {
   "cell_type": "markdown",
   "metadata": {},
   "source": [
    "Our plots above visualise the time it took to train our two classifiers and the time the models took to make predictions on our data sets. Regarding the training time the logistic regression classifier took significantly longer with over 1s, while the naive bayes classifier took less than 0.1s. In terms of the training process then, the latter is a lot more efficient. When it comes to the run times for the predicitons, the difference is not that large. Overall, given the size of our data sets, both models ran for less than 0.01s. In this case though, the logistic regression model ran slightly faster.\n",
    "Considering that training is performed only once and the real time deployment time of the model will be more important for further use, the prediction time indicator should be prioritised. Seeing that the logistic regression model is slightly faster here, it seems to make a good candidate as our chosen model."
   ]
  },
  {
   "cell_type": "code",
   "execution_count": 17,
   "metadata": {},
   "outputs": [
    {
     "name": "stdout",
     "output_type": "stream",
     "text": [
      "The exact time it took for the logistic regression classification model to be trained was: 1.0131840705871582s\n",
      "The exact time it took for the naive bayes classification model to be trained was: 0.01819586753845215s\n",
      "The exact time it took for the logistic regression classification model to predict unknown labels was: 0.003280162811279297s\n",
      "The exact time it took for the logistic regression classification model to predict unkonwn labels was: 0.003280162811279297s\n"
     ]
    }
   ],
   "source": [
    "print(f'The exact time it took for the logistic regression classification model to be trained was: {df_results.at[0, \"Training Time\"]}s')\n",
    "print(f'The exact time it took for the naive bayes classification model to be trained was: {df_results.at[1, \"Training Time\"]}s')\n",
    "print(f'The exact time it took for the logistic regression classification model to predict unknown labels was: {df_results.at[0, \"Prediction Time\"]}s')\n",
    "print(f'The exact time it took for the logistic regression classification model to predict unkonwn labels was: {df_results.at[0, \"Prediction Time\"]}s')"
   ]
  },
  {
   "cell_type": "markdown",
   "metadata": {},
   "source": [
    "In addition to our evaluation of the run times we cann also assess the models' success in predicting a sentence's label. To do this we can use four different metrics. All metrics work with counts of true and false positive and negative labels. In our specific case positive labels will correspond to positive sentiment labels, while negative corresponds to a negative sentiment label.\n",
    "\n",
    "1. Accuracy tells us how how many out of all the predicitons made by the model were correct.\n",
    "\n",
    "$$accuracy = \\frac{true \\ positives + true \\ negatives}{true \\ positives + true \\ negatives + false \\ positives + false \\ negatives}$$\n",
    "\n",
    "2. Precision tells us how many out of all __positive__ predictions are __true__ positives.\n",
    "\n",
    "$$precision = \\frac{true \\ positives}{true \\ positives + false \\ positives}$$\n",
    "\n",
    "3. Recall tells us how many of the sentences that should be labeled positive were actually labeled positive.\n",
    "\n",
    "$$recall = \\frac{true \\ positives}{true \\ positives + false \\ negatives}$$\n",
    "\n",
    "4. The F1 score combines recall and precision, measuring how well the model manages the trade off between the two.\n",
    "\n",
    "$$f1 = 2* \\frac{precision*recall}{precision + recall}$$\n",
    "\n",
    "\n",
    "(https://www.labelf.ai/blog/what-is-accuracy-precision-recall-and-f1-score)\n"
   ]
  },
  {
   "cell_type": "code",
   "execution_count": 18,
   "metadata": {},
   "outputs": [],
   "source": [
    "#Write function to plot 4 evaluation scores\n",
    "def classifier_plot(df, title1, title2):\n",
    "    \"\"\"\n",
    "    Creates bar plot from data frame showing assessment scores of different classification methods\n",
    "    \"\"\"\n",
    "    plt.figure(figsize=(11,4))\n",
    "\n",
    "    bar_width = 0.2\n",
    "\n",
    "    r = np.arange(len(df['Classifier']))\n",
    "\n",
    "    #Create first subplot for training results\n",
    "    plt.subplot(1,2,1)\n",
    "    plt.barh(r, df['Training Accuracy'], height=bar_width, label='training accuracy')\n",
    "    plt.barh(r + bar_width, df['Training Precision'], height=bar_width, label='training precision')\n",
    "    plt.barh(r + 2*bar_width, df['Training Recall'], height=bar_width, label='training recall')\n",
    "    plt.barh(r + 3*bar_width, df['Training F1'], height=bar_width, label='training F1')\n",
    "\n",
    "    plt.xlabel('Accuracy')\n",
    "    plt.ylabel('Classifier')\n",
    "    plt.title(f'{title1}')\n",
    "    plt.yticks(r, df['Classifier'], ha='right')\n",
    "    plt.xlim(0.5,1)\n",
    "    plt.grid(axis='x')\n",
    "\n",
    "    #Create second subplot for testing results\n",
    "    plt.subplot(1,2,2)\n",
    "    plt.barh(r, df['Test Accuracy'], height=bar_width, label='Accuracy')\n",
    "    plt.barh(r + bar_width, df['Test Precision'], height=bar_width, label='Precision')\n",
    "    plt.barh(r + 2*bar_width, df['Test Recall'], height=bar_width, label='Recall')\n",
    "    plt.barh(r + 3*bar_width, df['Test F1'], height=bar_width, label='F1')\n",
    "\n",
    "\n",
    "    plt.xlabel('Score')\n",
    "    plt.ylabel('Classifier')\n",
    "    plt.title(f'{title2}')\n",
    "    plt.yticks(r, df['Classifier'], ha='right')\n",
    "    plt.xlim(0.5,1)\n",
    "    plt.grid(axis='x')\n",
    "    \n",
    "    plt.tight_layout()\n",
    "    plt.legend(loc='center left', bbox_to_anchor=(1,0.5))\n",
    "    plt.show()\n",
    "    return"
   ]
  },
  {
   "cell_type": "code",
   "execution_count": 19,
   "metadata": {},
   "outputs": [
    {
     "data": {
      "image/png": "[encoded data removed]",
      "text/plain": [
       "<Figure size 1100x400 with 2 Axes>"
      ]
     },
     "metadata": {},
     "output_type": "display_data"
    }
   ],
   "source": [
    "#Call function for plotting\n",
    "classifier_plot(df_results, 'Training Data Scores', 'Test Data Scores')"
   ]
  },
  {
   "cell_type": "markdown",
   "metadata": {},
   "source": [
    "The training data scores show that overall the logistic regression classifier did better at fitting the model to the training data measured by all four metrics. The difference was not too large though with both the naive bayes classifier and the logistic regression classifier scoring above 90% and under 93% in all four measures. <br>\n",
    "The test data scores show a slightly more differentiated picture. The worst score was achieved by the naive bayes classifier on the test data when tested for precision with around 78%. The best score was also achieved by the naive bayes classifier in the recall score with aroudn 87%. This is very closely followed by the logistic regression recall score. In accuracy, precisoin and f1 scores the logistic regression classifier is the superior one. It's accuracy score lies at around 82% while the naive bayes classifier scores about 80% in accuracy. <br> <br>\n",
    "For our purposes we will continue fine tuning the logistic regression model on our data, as it provides both the higher accuracy, as well as higher prediction speed out of the two models investigated."
   ]
  },
  {
   "cell_type": "markdown",
   "metadata": {},
   "source": [
    "### 4. Hyper-Parameters\n",
    "Now that we have decided on a classification model we can move on to tuning some possible hyper-parameters. The goal is to find an optimal combination of parameters for the modelling of our data set."
   ]
  },
  {
   "cell_type": "code",
   "execution_count": 20,
   "metadata": {},
   "outputs": [
    {
     "name": "stdout",
     "output_type": "stream",
     "text": [
      "Logistic regression hyper-parameters  \n",
      "\n",
      "...C                        : 1.0\n",
      "...class_weight             : None\n",
      "...dual                     : False\n",
      "...fit_intercept            : True\n",
      "...intercept_scaling        : 1\n",
      "...l1_ratio                 : None\n",
      "...max_iter                 : 100\n",
      "...multi_class              : auto\n",
      "...n_jobs                   : None\n",
      "...penalty                  : l2\n",
      "...random_state             : None\n",
      "...solver                   : lbfgs\n",
      "...tol                      : 0.0001\n",
      "...verbose                  : 0\n",
      "...warm_start               : False\n",
      "\n"
     ]
    }
   ],
   "source": [
    "#First we get and print out the list of all hyper-parameters for our classifier\n",
    "print('Logistic regression hyper-parameters  \\n')\n",
    "params =LogisticRegression().get_params()\n",
    "for param, default in params.items():\n",
    "        print(f'...{param:25s}: {default}')\n",
    "print()"
   ]
  },
  {
   "cell_type": "markdown",
   "metadata": {},
   "source": [
    "The literature suggests that it for the size and purposes of our data set, it should not be necessary to tune all hyper-parameters available. In order to see what parameters are a viable option for tuning we will try out some combinations and check the run times."
   ]
  },
  {
   "cell_type": "code",
   "execution_count": 21,
   "metadata": {},
   "outputs": [
    {
     "name": "stderr",
     "output_type": "stream",
     "text": [
      "/Library/Frameworks/Python.framework/Versions/3.11/lib/python3.11/site-packages/sklearn/linear_model/_sag.py:350: ConvergenceWarning: The max_iter was reached which means the coef_ did not converge\n",
      "  warnings.warn(\n"
     ]
    },
    {
     "data": {
      "text/html": [
       "<style>#sk-container-id-1 {\n",
       "  /* Definition of color scheme common for light and dark mode */\n",
       "  --sklearn-color-text: black;\n",
       "  --sklearn-color-line: gray;\n",
       "  /* Definition of color scheme for unfitted estimators */\n",
       "  --sklearn-color-unfitted-level-0: #fff5e6;\n",
       "  --sklearn-color-unfitted-level-1: #f6e4d2;\n",
       "  --sklearn-color-unfitted-level-2: #ffe0b3;\n",
       "  --sklearn-color-unfitted-level-3: chocolate;\n",
       "  /* Definition of color scheme for fitted estimators */\n",
       "  --sklearn-color-fitted-level-0: #f0f8ff;\n",
       "  --sklearn-color-fitted-level-1: #d4ebff;\n",
       "  --sklearn-color-fitted-level-2: #b3dbfd;\n",
       "  --sklearn-color-fitted-level-3: cornflowerblue;\n",
       "\n",
       "  /* Specific color for light theme */\n",
       "  --sklearn-color-text-on-default-background: var(--sg-text-color, var(--theme-code-foreground, var(--jp-content-font-color1, black)));\n",
       "  --sklearn-color-background: var(--sg-background-color, var(--theme-background, var(--jp-layout-color0, white)));\n",
       "  --sklearn-color-border-box: var(--sg-text-color, var(--theme-code-foreground, var(--jp-content-font-color1, black)));\n",
       "  --sklearn-color-icon: #696969;\n",
       "\n",
       "  @media (prefers-color-scheme: dark) {\n",
       "    /* Redefinition of color scheme for dark theme */\n",
       "    --sklearn-color-text-on-default-background: var(--sg-text-color, var(--theme-code-foreground, var(--jp-content-font-color1, white)));\n",
       "    --sklearn-color-background: var(--sg-background-color, var(--theme-background, var(--jp-layout-color0, #111)));\n",
       "    --sklearn-color-border-box: var(--sg-text-color, var(--theme-code-foreground, var(--jp-content-font-color1, white)));\n",
       "    --sklearn-color-icon: #878787;\n",
       "  }\n",
       "}\n",
       "\n",
       "#sk-container-id-1 {\n",
       "  color: var(--sklearn-color-text);\n",
       "}\n",
       "\n",
       "#sk-container-id-1 pre {\n",
       "  padding: 0;\n",
       "}\n",
       "\n",
       "#sk-container-id-1 input.sk-hidden--visually {\n",
       "  border: 0;\n",
       "  clip: rect(1px 1px 1px 1px);\n",
       "  clip: rect(1px, 1px, 1px, 1px);\n",
       "  height: 1px;\n",
       "  margin: -1px;\n",
       "  overflow: hidden;\n",
       "  padding: 0;\n",
       "  position: absolute;\n",
       "  width: 1px;\n",
       "}\n",
       "\n",
       "#sk-container-id-1 div.sk-dashed-wrapped {\n",
       "  border: 1px dashed var(--sklearn-color-line);\n",
       "  margin: 0 0.4em 0.5em 0.4em;\n",
       "  box-sizing: border-box;\n",
       "  padding-bottom: 0.4em;\n",
       "  background-color: var(--sklearn-color-background);\n",
       "}\n",
       "\n",
       "#sk-container-id-1 div.sk-container {\n",
       "  /* jupyter's `normalize.less` sets `[hidden] { display: none; }`\n",
       "     but bootstrap.min.css set `[hidden] { display: none !important; }`\n",
       "     so we also need the `!important` here to be able to override the\n",
       "     default hidden behavior on the sphinx rendered scikit-learn.org.\n",
       "     See: https://github.com/scikit-learn/scikit-learn/issues/21755 */\n",
       "  display: inline-block !important;\n",
       "  position: relative;\n",
       "}\n",
       "\n",
       "#sk-container-id-1 div.sk-text-repr-fallback {\n",
       "  display: none;\n",
       "}\n",
       "\n",
       "div.sk-parallel-item,\n",
       "div.sk-serial,\n",
       "div.sk-item {\n",
       "  /* draw centered vertical line to link estimators */\n",
       "  background-image: linear-gradient(var(--sklearn-color-text-on-default-background), var(--sklearn-color-text-on-default-background));\n",
       "  background-size: 2px 100%;\n",
       "  background-repeat: no-repeat;\n",
       "  background-position: center center;\n",
       "}\n",
       "\n",
       "/* Parallel-specific style estimator block */\n",
       "\n",
       "#sk-container-id-1 div.sk-parallel-item::after {\n",
       "  content: \"\";\n",
       "  width: 100%;\n",
       "  border-bottom: 2px solid var(--sklearn-color-text-on-default-background);\n",
       "  flex-grow: 1;\n",
       "}\n",
       "\n",
       "#sk-container-id-1 div.sk-parallel {\n",
       "  display: flex;\n",
       "  align-items: stretch;\n",
       "  justify-content: center;\n",
       "  background-color: var(--sklearn-color-background);\n",
       "  position: relative;\n",
       "}\n",
       "\n",
       "#sk-container-id-1 div.sk-parallel-item {\n",
       "  display: flex;\n",
       "  flex-direction: column;\n",
       "}\n",
       "\n",
       "#sk-container-id-1 div.sk-parallel-item:first-child::after {\n",
       "  align-self: flex-end;\n",
       "  width: 50%;\n",
       "}\n",
       "\n",
       "#sk-container-id-1 div.sk-parallel-item:last-child::after {\n",
       "  align-self: flex-start;\n",
       "  width: 50%;\n",
       "}\n",
       "\n",
       "#sk-container-id-1 div.sk-parallel-item:only-child::after {\n",
       "  width: 0;\n",
       "}\n",
       "\n",
       "/* Serial-specific style estimator block */\n",
       "\n",
       "#sk-container-id-1 div.sk-serial {\n",
       "  display: flex;\n",
       "  flex-direction: column;\n",
       "  align-items: center;\n",
       "  background-color: var(--sklearn-color-background);\n",
       "  padding-right: 1em;\n",
       "  padding-left: 1em;\n",
       "}\n",
       "\n",
       "\n",
       "/* Toggleable style: style used for estimator/Pipeline/ColumnTransformer box that is\n",
       "clickable and can be expanded/collapsed.\n",
       "- Pipeline and ColumnTransformer use this feature and define the default style\n",
       "- Estimators will overwrite some part of the style using the `sk-estimator` class\n",
       "*/\n",
       "\n",
       "/* Pipeline and ColumnTransformer style (default) */\n",
       "\n",
       "#sk-container-id-1 div.sk-toggleable {\n",
       "  /* Default theme specific background. It is overwritten whether we have a\n",
       "  specific estimator or a Pipeline/ColumnTransformer */\n",
       "  background-color: var(--sklearn-color-background);\n",
       "}\n",
       "\n",
       "/* Toggleable label */\n",
       "#sk-container-id-1 label.sk-toggleable__label {\n",
       "  cursor: pointer;\n",
       "  display: block;\n",
       "  width: 100%;\n",
       "  margin-bottom: 0;\n",
       "  padding: 0.5em;\n",
       "  box-sizing: border-box;\n",
       "  text-align: center;\n",
       "}\n",
       "\n",
       "#sk-container-id-1 label.sk-toggleable__label-arrow:before {\n",
       "  /* Arrow on the left of the label */\n",
       "  content: \"▸\";\n",
       "  float: left;\n",
       "  margin-right: 0.25em;\n",
       "  color: var(--sklearn-color-icon);\n",
       "}\n",
       "\n",
       "#sk-container-id-1 label.sk-toggleable__label-arrow:hover:before {\n",
       "  color: var(--sklearn-color-text);\n",
       "}\n",
       "\n",
       "/* Toggleable content - dropdown */\n",
       "\n",
       "#sk-container-id-1 div.sk-toggleable__content {\n",
       "  max-height: 0;\n",
       "  max-width: 0;\n",
       "  overflow: hidden;\n",
       "  text-align: left;\n",
       "  /* unfitted */\n",
       "  background-color: var(--sklearn-color-unfitted-level-0);\n",
       "}\n",
       "\n",
       "#sk-container-id-1 div.sk-toggleable__content.fitted {\n",
       "  /* fitted */\n",
       "  background-color: var(--sklearn-color-fitted-level-0);\n",
       "}\n",
       "\n",
       "#sk-container-id-1 div.sk-toggleable__content pre {\n",
       "  margin: 0.2em;\n",
       "  border-radius: 0.25em;\n",
       "  color: var(--sklearn-color-text);\n",
       "  /* unfitted */\n",
       "  background-color: var(--sklearn-color-unfitted-level-0);\n",
       "}\n",
       "\n",
       "#sk-container-id-1 div.sk-toggleable__content.fitted pre {\n",
       "  /* unfitted */\n",
       "  background-color: var(--sklearn-color-fitted-level-0);\n",
       "}\n",
       "\n",
       "#sk-container-id-1 input.sk-toggleable__control:checked~div.sk-toggleable__content {\n",
       "  /* Expand drop-down */\n",
       "  max-height: 200px;\n",
       "  max-width: 100%;\n",
       "  overflow: auto;\n",
       "}\n",
       "\n",
       "#sk-container-id-1 input.sk-toggleable__control:checked~label.sk-toggleable__label-arrow:before {\n",
       "  content: \"▾\";\n",
       "}\n",
       "\n",
       "/* Pipeline/ColumnTransformer-specific style */\n",
       "\n",
       "#sk-container-id-1 div.sk-label input.sk-toggleable__control:checked~label.sk-toggleable__label {\n",
       "  color: var(--sklearn-color-text);\n",
       "  background-color: var(--sklearn-color-unfitted-level-2);\n",
       "}\n",
       "\n",
       "#sk-container-id-1 div.sk-label.fitted input.sk-toggleable__control:checked~label.sk-toggleable__label {\n",
       "  background-color: var(--sklearn-color-fitted-level-2);\n",
       "}\n",
       "\n",
       "/* Estimator-specific style */\n",
       "\n",
       "/* Colorize estimator box */\n",
       "#sk-container-id-1 div.sk-estimator input.sk-toggleable__control:checked~label.sk-toggleable__label {\n",
       "  /* unfitted */\n",
       "  background-color: var(--sklearn-color-unfitted-level-2);\n",
       "}\n",
       "\n",
       "#sk-container-id-1 div.sk-estimator.fitted input.sk-toggleable__control:checked~label.sk-toggleable__label {\n",
       "  /* fitted */\n",
       "  background-color: var(--sklearn-color-fitted-level-2);\n",
       "}\n",
       "\n",
       "#sk-container-id-1 div.sk-label label.sk-toggleable__label,\n",
       "#sk-container-id-1 div.sk-label label {\n",
       "  /* The background is the default theme color */\n",
       "  color: var(--sklearn-color-text-on-default-background);\n",
       "}\n",
       "\n",
       "/* On hover, darken the color of the background */\n",
       "#sk-container-id-1 div.sk-label:hover label.sk-toggleable__label {\n",
       "  color: var(--sklearn-color-text);\n",
       "  background-color: var(--sklearn-color-unfitted-level-2);\n",
       "}\n",
       "\n",
       "/* Label box, darken color on hover, fitted */\n",
       "#sk-container-id-1 div.sk-label.fitted:hover label.sk-toggleable__label.fitted {\n",
       "  color: var(--sklearn-color-text);\n",
       "  background-color: var(--sklearn-color-fitted-level-2);\n",
       "}\n",
       "\n",
       "/* Estimator label */\n",
       "\n",
       "#sk-container-id-1 div.sk-label label {\n",
       "  font-family: monospace;\n",
       "  font-weight: bold;\n",
       "  display: inline-block;\n",
       "  line-height: 1.2em;\n",
       "}\n",
       "\n",
       "#sk-container-id-1 div.sk-label-container {\n",
       "  text-align: center;\n",
       "}\n",
       "\n",
       "/* Estimator-specific */\n",
       "#sk-container-id-1 div.sk-estimator {\n",
       "  font-family: monospace;\n",
       "  border: 1px dotted var(--sklearn-color-border-box);\n",
       "  border-radius: 0.25em;\n",
       "  box-sizing: border-box;\n",
       "  margin-bottom: 0.5em;\n",
       "  /* unfitted */\n",
       "  background-color: var(--sklearn-color-unfitted-level-0);\n",
       "}\n",
       "\n",
       "#sk-container-id-1 div.sk-estimator.fitted {\n",
       "  /* fitted */\n",
       "  background-color: var(--sklearn-color-fitted-level-0);\n",
       "}\n",
       "\n",
       "/* on hover */\n",
       "#sk-container-id-1 div.sk-estimator:hover {\n",
       "  /* unfitted */\n",
       "  background-color: var(--sklearn-color-unfitted-level-2);\n",
       "}\n",
       "\n",
       "#sk-container-id-1 div.sk-estimator.fitted:hover {\n",
       "  /* fitted */\n",
       "  background-color: var(--sklearn-color-fitted-level-2);\n",
       "}\n",
       "\n",
       "/* Specification for estimator info (e.g. \"i\" and \"?\") */\n",
       "\n",
       "/* Common style for \"i\" and \"?\" */\n",
       "\n",
       ".sk-estimator-doc-link,\n",
       "a:link.sk-estimator-doc-link,\n",
       "a:visited.sk-estimator-doc-link {\n",
       "  float: right;\n",
       "  font-size: smaller;\n",
       "  line-height: 1em;\n",
       "  font-family: monospace;\n",
       "  background-color: var(--sklearn-color-background);\n",
       "  border-radius: 1em;\n",
       "  height: 1em;\n",
       "  width: 1em;\n",
       "  text-decoration: none !important;\n",
       "  margin-left: 1ex;\n",
       "  /* unfitted */\n",
       "  border: var(--sklearn-color-unfitted-level-1) 1pt solid;\n",
       "  color: var(--sklearn-color-unfitted-level-1);\n",
       "}\n",
       "\n",
       ".sk-estimator-doc-link.fitted,\n",
       "a:link.sk-estimator-doc-link.fitted,\n",
       "a:visited.sk-estimator-doc-link.fitted {\n",
       "  /* fitted */\n",
       "  border: var(--sklearn-color-fitted-level-1) 1pt solid;\n",
       "  color: var(--sklearn-color-fitted-level-1);\n",
       "}\n",
       "\n",
       "/* On hover */\n",
       "div.sk-estimator:hover .sk-estimator-doc-link:hover,\n",
       ".sk-estimator-doc-link:hover,\n",
       "div.sk-label-container:hover .sk-estimator-doc-link:hover,\n",
       ".sk-estimator-doc-link:hover {\n",
       "  /* unfitted */\n",
       "  background-color: var(--sklearn-color-unfitted-level-3);\n",
       "  color: var(--sklearn-color-background);\n",
       "  text-decoration: none;\n",
       "}\n",
       "\n",
       "div.sk-estimator.fitted:hover .sk-estimator-doc-link.fitted:hover,\n",
       ".sk-estimator-doc-link.fitted:hover,\n",
       "div.sk-label-container:hover .sk-estimator-doc-link.fitted:hover,\n",
       ".sk-estimator-doc-link.fitted:hover {\n",
       "  /* fitted */\n",
       "  background-color: var(--sklearn-color-fitted-level-3);\n",
       "  color: var(--sklearn-color-background);\n",
       "  text-decoration: none;\n",
       "}\n",
       "\n",
       "/* Span, style for the box shown on hovering the info icon */\n",
       ".sk-estimator-doc-link span {\n",
       "  display: none;\n",
       "  z-index: 9999;\n",
       "  position: relative;\n",
       "  font-weight: normal;\n",
       "  right: .2ex;\n",
       "  padding: .5ex;\n",
       "  margin: .5ex;\n",
       "  width: min-content;\n",
       "  min-width: 20ex;\n",
       "  max-width: 50ex;\n",
       "  color: var(--sklearn-color-text);\n",
       "  box-shadow: 2pt 2pt 4pt #999;\n",
       "  /* unfitted */\n",
       "  background: var(--sklearn-color-unfitted-level-0);\n",
       "  border: .5pt solid var(--sklearn-color-unfitted-level-3);\n",
       "}\n",
       "\n",
       ".sk-estimator-doc-link.fitted span {\n",
       "  /* fitted */\n",
       "  background: var(--sklearn-color-fitted-level-0);\n",
       "  border: var(--sklearn-color-fitted-level-3);\n",
       "}\n",
       "\n",
       ".sk-estimator-doc-link:hover span {\n",
       "  display: block;\n",
       "}\n",
       "\n",
       "/* \"?\"-specific style due to the `<a>` HTML tag */\n",
       "\n",
       "#sk-container-id-1 a.estimator_doc_link {\n",
       "  float: right;\n",
       "  font-size: 1rem;\n",
       "  line-height: 1em;\n",
       "  font-family: monospace;\n",
       "  background-color: var(--sklearn-color-background);\n",
       "  border-radius: 1rem;\n",
       "  height: 1rem;\n",
       "  width: 1rem;\n",
       "  text-decoration: none;\n",
       "  /* unfitted */\n",
       "  color: var(--sklearn-color-unfitted-level-1);\n",
       "  border: var(--sklearn-color-unfitted-level-1) 1pt solid;\n",
       "}\n",
       "\n",
       "#sk-container-id-1 a.estimator_doc_link.fitted {\n",
       "  /* fitted */\n",
       "  border: var(--sklearn-color-fitted-level-1) 1pt solid;\n",
       "  color: var(--sklearn-color-fitted-level-1);\n",
       "}\n",
       "\n",
       "/* On hover */\n",
       "#sk-container-id-1 a.estimator_doc_link:hover {\n",
       "  /* unfitted */\n",
       "  background-color: var(--sklearn-color-unfitted-level-3);\n",
       "  color: var(--sklearn-color-background);\n",
       "  text-decoration: none;\n",
       "}\n",
       "\n",
       "#sk-container-id-1 a.estimator_doc_link.fitted:hover {\n",
       "  /* fitted */\n",
       "  background-color: var(--sklearn-color-fitted-level-3);\n",
       "}\n",
       "</style><div id=\"sk-container-id-1\" class=\"sk-top-container\"><div class=\"sk-text-repr-fallback\"><pre>LogisticRegression(C=100, solver=&#x27;saga&#x27;)</pre><b>In a Jupyter environment, please rerun this cell to show the HTML representation or trust the notebook. <br />On GitHub, the HTML representation is unable to render, please try loading this page with nbviewer.org.</b></div><div class=\"sk-container\" hidden><div class=\"sk-item\"><div class=\"sk-estimator fitted sk-toggleable\"><input class=\"sk-toggleable__control sk-hidden--visually\" id=\"sk-estimator-id-1\" type=\"checkbox\" checked><label for=\"sk-estimator-id-1\" class=\"sk-toggleable__label fitted sk-toggleable__label-arrow fitted\">&nbsp;&nbsp;LogisticRegression<a class=\"sk-estimator-doc-link fitted\" rel=\"noreferrer\" target=\"_blank\" href=\"https://scikit-learn.org/1.4/modules/generated/sklearn.linear_model.LogisticRegression.html\">?<span>Documentation for LogisticRegression</span></a><span class=\"sk-estimator-doc-link fitted\">i<span>Fitted</span></span></label><div class=\"sk-toggleable__content fitted\"><pre>LogisticRegression(C=100, solver=&#x27;saga&#x27;)</pre></div> </div></div></div></div>"
      ],
      "text/plain": [
       "LogisticRegression(C=100, solver='saga')"
      ]
     },
     "execution_count": 21,
     "metadata": {},
     "output_type": "execute_result"
    }
   ],
   "source": [
    "#Initialise a classifier to test some hyperparameters for their run times\n",
    "test_class = LogisticRegression(solver='saga', C=100, penalty='l2')\n",
    "\n",
    "#Run model fitting\n",
    "test_class.fit(X=train.V, y=train.y)"
   ]
  },
  {
   "cell_type": "markdown",
   "metadata": {},
   "source": [
    "The tests have suggested settling on setting the penalty to 'l2' and tunign the parameters C and solver. The solver determines the algorithm used for optimisation. The penalty parameter aims at preventing generalisation errors and overfitting (scikit-learn). Furthermore Ccontrols the penalty strength. The solvers 'sag' and 'saga' will be disregarded as they do not lead to the model converging, suggesting that they are unsuitable algorithms for the data at hand.\n",
    "<br> <br>\n",
    "In the following, the optimal values for C and solver  will be tested for our data using a grid search. A grid search allows us to test all possible combinations of parameter values. It should be noted, that not every penalty works with every solver type. This is why we are setting the penalty to 'l2'. Further, certain C values have shown to not . Lastly, the newton-cholsky is too computationally expensive due to its hessian matrix which is why it will not be tested in the grid search."
   ]
  },
  {
   "cell_type": "code",
   "execution_count": 22,
   "metadata": {},
   "outputs": [],
   "source": [
    "#Grid search for the best combination of hyperparameters\n",
    "\n",
    "# Create the classifier\n",
    "my_classifier = LogisticRegression(penalty='l2', max_iter=200)\n",
    "\n",
    "# Parameters to search, and possible values\n",
    "grid = {\n",
    "    'solver': ['lbfgs', 'liblinear'],\n",
    "    'C' : [0.5, 1.0, 8, 10, 50, 100]\n",
    "}\n",
    "\n",
    "#Initialise grid search using the GridSearchCV method on our chosen classifier using the grid and setting the cross validation generator to 5  \n",
    "my_gs = GridSearchCV(estimator= my_classifier, param_grid = grid, cv=5)\n",
    "\n",
    "my_gs.fit(X=train.V, y=train.y);\n"
   ]
  },
  {
   "cell_type": "code",
   "execution_count": 23,
   "metadata": {},
   "outputs": [
    {
     "data": {
      "text/plain": [
       "{'C': 50, 'solver': 'liblinear'}"
      ]
     },
     "execution_count": 23,
     "metadata": {},
     "output_type": "execute_result"
    }
   ],
   "source": [
    "#Print the best hyper-parameters found in the grid search\n",
    "my_gs.best_params_"
   ]
  },
  {
   "cell_type": "code",
   "execution_count": 24,
   "metadata": {},
   "outputs": [
    {
     "name": "stdout",
     "output_type": "stream",
     "text": [
      "Best training accuracy is 90.62%\n",
      "Test accuracy is 80.85%\n"
     ]
    }
   ],
   "source": [
    "#Show the highest accuracy for training data\n",
    "print(f'Best training accuracy is {my_gs.best_score_:.2%}')\n",
    "\n",
    "#Show the highest accuracy for test data\n",
    "print(f'Test accuracy is {my_gs.score(test.V, test.y):.2%}')"
   ]
  },
  {
   "cell_type": "markdown",
   "metadata": {},
   "source": [
    "The grid search seems unsuccessful, as the default parameters still achieve a higher accuracy with 82% than the model specifications found through tuning which gave an accuracy of 81%. <br>\n",
    "Implications: Depending on the purpose of a machine learning application it may or may not be worth spening the computational power for fine tuning a classification model. Surely, even better hyper-parameters could have been found, but this incremental improvement may not be of necessity for the purposes of the model and the predictions it is meant to make. <br>\n",
    "Conclusion: The best model found in this exploration was the logistic regression classifier using defaul parameters. "
   ]
  },
  {
   "cell_type": "code",
   "execution_count": 25,
   "metadata": {},
   "outputs": [],
   "source": [
    "#Initialise model\n",
    "my_model = LogisticRegression()\n",
    "\n",
    "#Train model\n",
    "my_model.fit(X=train.V, y=train.y)\n",
    "\n",
    "#Save model\n",
    "with open(\"classifier.pickle\", \"wb\") as f:\n",
    "    pickle.dump(my_model, f)"
   ]
  },
  {
   "cell_type": "markdown",
   "metadata": {},
   "source": [
    "### 5. Model Deployment"
   ]
  },
  {
   "cell_type": "markdown",
   "metadata": {},
   "source": [
    "Now that we have settled on our two models for vectorisation and classification we can deploy them to other reviews that are yet unlabled or a whole dataset of unlabled reviews and let the model predict the sentiment. First we need to make sure the new data has the same format and structure as our training and test data (apart from the lack of a label). "
   ]
  },
  {
   "cell_type": "code",
   "execution_count": 26,
   "metadata": {},
   "outputs": [
    {
     "data": {
      "text/html": [
       "<div>\n",
       "<style scoped>\n",
       "    .dataframe tbody tr th:only-of-type {\n",
       "        vertical-align: middle;\n",
       "    }\n",
       "\n",
       "    .dataframe tbody tr th {\n",
       "        vertical-align: top;\n",
       "    }\n",
       "\n",
       "    .dataframe thead th {\n",
       "        text-align: right;\n",
       "    }\n",
       "</style>\n",
       "<table border=\"1\" class=\"dataframe\">\n",
       "  <thead>\n",
       "    <tr style=\"text-align: right;\">\n",
       "      <th></th>\n",
       "      <th>index</th>\n",
       "      <th>sentence</th>\n",
       "    </tr>\n",
       "  </thead>\n",
       "  <tbody>\n",
       "    <tr>\n",
       "      <th>0</th>\n",
       "      <td>0</td>\n",
       "      <td>uneasy mishmash of styles and genres .</td>\n",
       "    </tr>\n",
       "    <tr>\n",
       "      <th>1</th>\n",
       "      <td>1</td>\n",
       "      <td>this film 's relationship to actual tension is...</td>\n",
       "    </tr>\n",
       "    <tr>\n",
       "      <th>2</th>\n",
       "      <td>2</td>\n",
       "      <td>by the end of no such thing the audience , lik...</td>\n",
       "    </tr>\n",
       "    <tr>\n",
       "      <th>3</th>\n",
       "      <td>3</td>\n",
       "      <td>director rob marshall went out gunning to make...</td>\n",
       "    </tr>\n",
       "    <tr>\n",
       "      <th>4</th>\n",
       "      <td>4</td>\n",
       "      <td>lathan and diggs have considerable personal ch...</td>\n",
       "    </tr>\n",
       "  </tbody>\n",
       "</table>\n",
       "</div>"
      ],
      "text/plain": [
       "   index                                           sentence\n",
       "0      0             uneasy mishmash of styles and genres .\n",
       "1      1  this film 's relationship to actual tension is...\n",
       "2      2  by the end of no such thing the audience , lik...\n",
       "3      3  director rob marshall went out gunning to make...\n",
       "4      4  lathan and diggs have considerable personal ch..."
      ]
     },
     "execution_count": 26,
     "metadata": {},
     "output_type": "execute_result"
    }
   ],
   "source": [
    "#Load data file using pandas and store it as dataframe\n",
    "unseen_data = pd.read_csv('test.tsv', sep = '\\t')\n",
    "\n",
    "#Check some of the data\n",
    "unseen_data.head(5)\n"
   ]
  },
  {
   "cell_type": "markdown",
   "metadata": {},
   "source": [
    "The format of the data looks good. The data is already tokenized as sentences, lowercase and the sentences are unlabled. We merely need to put the data in the same kind of data structure that we used for the other two data sets."
   ]
  },
  {
   "cell_type": "code",
   "execution_count": 27,
   "metadata": {},
   "outputs": [],
   "source": [
    "#Create new instance of object of type Dataset\n",
    "evaluation = Dataset()\n",
    "\n",
    "#Store sentences from dataframe in object\n",
    "evaluation.X = unseen_data['sentence']"
   ]
  },
  {
   "cell_type": "markdown",
   "metadata": {},
   "source": [
    "Now we can move on to deploying our two models. Of course the models are saved in this notebook, but as we want them to be deployable in real time outside of this script we will be using the saved model files for good practice, ensuring that they work as intended."
   ]
  },
  {
   "cell_type": "code",
   "execution_count": 28,
   "metadata": {},
   "outputs": [],
   "source": [
    "#Load vectorizer file\n",
    "with open('vectorizer.pickle', 'rb') as f:\n",
    "    vectorizer = pickle.load(f)\n",
    "\n",
    "#Apply to new data and store in object\n",
    "evaluation.V = vectorizer.transform(evaluation.X)"
   ]
  },
  {
   "cell_type": "code",
   "execution_count": 29,
   "metadata": {},
   "outputs": [],
   "source": [
    "#Load classifier file\n",
    "with open('classifier.pickle', 'rb') as f:\n",
    "    classifier = pickle.load(f)\n",
    "\n",
    "#Apply to vectorized new data\n",
    "evaluation.y = classifier.predict(evaluation.V)"
   ]
  },
  {
   "cell_type": "code",
   "execution_count": 30,
   "metadata": {},
   "outputs": [],
   "source": [
    "#Creat a new dataframe with labled data\n",
    "final_result = unseen_data.copy()\n",
    "final_result['label'] = evaluation.y"
   ]
  },
  {
   "cell_type": "code",
   "execution_count": 31,
   "metadata": {},
   "outputs": [
    {
     "data": {
      "text/html": [
       "<div>\n",
       "<style scoped>\n",
       "    .dataframe tbody tr th:only-of-type {\n",
       "        vertical-align: middle;\n",
       "    }\n",
       "\n",
       "    .dataframe tbody tr th {\n",
       "        vertical-align: top;\n",
       "    }\n",
       "\n",
       "    .dataframe thead th {\n",
       "        text-align: right;\n",
       "    }\n",
       "</style>\n",
       "<table border=\"1\" class=\"dataframe\">\n",
       "  <thead>\n",
       "    <tr style=\"text-align: right;\">\n",
       "      <th></th>\n",
       "      <th>index</th>\n",
       "      <th>sentence</th>\n",
       "      <th>label</th>\n",
       "    </tr>\n",
       "  </thead>\n",
       "  <tbody>\n",
       "    <tr>\n",
       "      <th>0</th>\n",
       "      <td>0</td>\n",
       "      <td>uneasy mishmash of styles and genres .</td>\n",
       "      <td>0</td>\n",
       "    </tr>\n",
       "    <tr>\n",
       "      <th>1</th>\n",
       "      <td>1</td>\n",
       "      <td>this film 's relationship to actual tension is...</td>\n",
       "      <td>0</td>\n",
       "    </tr>\n",
       "    <tr>\n",
       "      <th>2</th>\n",
       "      <td>2</td>\n",
       "      <td>by the end of no such thing the audience , lik...</td>\n",
       "      <td>0</td>\n",
       "    </tr>\n",
       "    <tr>\n",
       "      <th>3</th>\n",
       "      <td>3</td>\n",
       "      <td>director rob marshall went out gunning to make...</td>\n",
       "      <td>1</td>\n",
       "    </tr>\n",
       "    <tr>\n",
       "      <th>4</th>\n",
       "      <td>4</td>\n",
       "      <td>lathan and diggs have considerable personal ch...</td>\n",
       "      <td>1</td>\n",
       "    </tr>\n",
       "    <tr>\n",
       "      <th>5</th>\n",
       "      <td>5</td>\n",
       "      <td>a well-made and often lovely depiction of the ...</td>\n",
       "      <td>1</td>\n",
       "    </tr>\n",
       "    <tr>\n",
       "      <th>6</th>\n",
       "      <td>6</td>\n",
       "      <td>none of this violates the letter of behan 's b...</td>\n",
       "      <td>0</td>\n",
       "    </tr>\n",
       "    <tr>\n",
       "      <th>7</th>\n",
       "      <td>7</td>\n",
       "      <td>although it bangs a very cliched drum at times...</td>\n",
       "      <td>1</td>\n",
       "    </tr>\n",
       "    <tr>\n",
       "      <th>8</th>\n",
       "      <td>8</td>\n",
       "      <td>it is not a mass-market entertainment but an u...</td>\n",
       "      <td>0</td>\n",
       "    </tr>\n",
       "    <tr>\n",
       "      <th>9</th>\n",
       "      <td>9</td>\n",
       "      <td>this is junk food cinema at its greasiest .</td>\n",
       "      <td>0</td>\n",
       "    </tr>\n",
       "  </tbody>\n",
       "</table>\n",
       "</div>"
      ],
      "text/plain": [
       "   index                                           sentence  label\n",
       "0      0             uneasy mishmash of styles and genres .      0\n",
       "1      1  this film 's relationship to actual tension is...      0\n",
       "2      2  by the end of no such thing the audience , lik...      0\n",
       "3      3  director rob marshall went out gunning to make...      1\n",
       "4      4  lathan and diggs have considerable personal ch...      1\n",
       "5      5  a well-made and often lovely depiction of the ...      1\n",
       "6      6  none of this violates the letter of behan 's b...      0\n",
       "7      7  although it bangs a very cliched drum at times...      1\n",
       "8      8  it is not a mass-market entertainment but an u...      0\n",
       "9      9        this is junk food cinema at its greasiest .      0"
      ]
     },
     "execution_count": 31,
     "metadata": {},
     "output_type": "execute_result"
    }
   ],
   "source": [
    "#Check it worked\n",
    "final_result.head(10)"
   ]
  },
  {
   "cell_type": "markdown",
   "metadata": {},
   "source": [
    "#### Ethical Implications\n",
    "Remarkably, we haven't seen most of the data in our training and testing data. For the development of the model, it was not necessary to know the exact contents of the data. This means that we could be overlooking misinformation and biases that are now integrated into the model. Depending on the application of the application that uses these models the effects could be harmful, for example if used in important decision making processes. This could regard hiring processes, loan grants or even law inforcement. If the data contains only a certain type of film review in our case, let's say, taken from a certain period of time when certain words had certain connotations, the model could be inadequate for reviews from other contexts, like a different time period or, say, translations from a different country. For more scientific integrity, applications for high stakes decision making need to have a clear understanding of the context that the data represents and draw conclusions about the generalisability.\n",
    "<br> <br>"
   ]
  },
  {
   "cell_type": "markdown",
   "metadata": {},
   "source": [
    "### References\n",
    "\n",
    "Brownlee, Jason. \"Tune Hyperparameters for Classification Machine Learning Algorithms.\" Machine Learnign Mastery, 2020. https://machinelearningmastery.com/hyperparameters-for-classification-machine-learning-algorithms/ <br><br>\n",
    "Melanee Group. \"A Comprehensive Analysis of Hyperparameter Optimization in Logistic Regression Models.\" Level up Coding, 2023. https://levelup.gitconnected.com/a-comprehensive-analysis-of-hyperparameter-optimization-in-logistic-regression-models-521564c1bfc0 <br><br>\n",
    "Sci-kit Learn. \"Linear Models\". https://scikit-learn.org/dev/modules/linear_model.html#logistic-regression\n"
   ]
  }
 ],
 "metadata": {
  "kernelspec": {
   "display_name": "Python 2",
   "language": "python",
   "name": "python2"
  },
  "language_info": {
   "codemirror_mode": {
    "name": "ipython",
    "version": 2
   },
   "file_extension": ".py",
   "mimetype": "text/x-python",
   "name": "python",
   "nbconvert_exporter": "python",
   "pygments_lexer": "ipython2",
   "version": "2.7.16"
  }
 },
 "nbformat": 4,
 "nbformat_minor": 5
}
